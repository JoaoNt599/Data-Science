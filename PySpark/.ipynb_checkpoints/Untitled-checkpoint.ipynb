{
 "cells": [
  {
   "cell_type": "code",
   "execution_count": null,
   "id": "278edce9-205a-4da4-9bf5-f8616a8ed53a",
   "metadata": {},
   "outputs": [],
   "source": [
    "import pyspark"
   ]
  },
  {
   "cell_type": "markdown",
   "id": "119414f9-fce1-491f-b822-28efda1b3be5",
   "metadata": {},
   "source": [
    "# Componentes\n",
    "\n",
    "## Spark Application = Contrução da aplicação via Spark\n",
    "\n",
    "## Spark Driver\n",
    "\n",
    "1. Inicializa o Spark Session\n",
    "2. Requisita recursos (CPU, Memória)\n",
    "3. Gera um ambiente para executar o processos do Spark\n",
    "\n",
    "## Spark Session\n",
    "\n",
    "1. Entrada uificada para os recursos do Spark\n",
    "2. Parametrização de JVM\n",
    "3. Criação de Dataframes\n",
    "4. Leitura de fonte dados"
   ]
  },
  {
   "cell_type": "code",
   "execution_count": null,
   "id": "dd913ffe-1b22-40fd-ac52-c2af1ba927e2",
   "metadata": {},
   "outputs": [],
   "source": []
  }
 ],
 "metadata": {
  "kernelspec": {
   "display_name": "Python 3 (ipykernel)",
   "language": "python",
   "name": "python3"
  },
  "language_info": {
   "codemirror_mode": {
    "name": "ipython",
    "version": 3
   },
   "file_extension": ".py",
   "mimetype": "text/x-python",
   "name": "python",
   "nbconvert_exporter": "python",
   "pygments_lexer": "ipython3",
   "version": "3.12.3"
  }
 },
 "nbformat": 4,
 "nbformat_minor": 5
}
